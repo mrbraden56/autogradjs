{
 "cells": [
  {
   "cell_type": "markdown",
   "metadata": {},
   "source": [
    "<img src=\"other_snips/venn_diagram.png\" alt=\"Venn Diagram\" title=\"Venn Diagram\" width=\"600\" height=\"600\">\n",
    "\n",
    "\n",
    "\n",
    "<a href=\"https://imgflip.com/i/8tobbh\"><img src=\"https://i.imgflip.com/8tobbh.jpg\" title=\"made at imgflip.com\"/></a><div><a href=\"https://imgflip.com/memegenerator\"></a></div>\n",
    "\n",
    "<br>\n",
    "<br>\n",
    "<br>\n",
    "<a href=\"https://imgflip.com/i/8tobky\"><img src=\"https://i.imgflip.com/8tobky.jpg\" title=\"made at imgflip.com\"/></a><div><a href=\"https://imgflip.com/memegenerator\"></a></div>"
   ]
  },
  {
   "cell_type": "markdown",
   "metadata": {},
   "source": [
    "# Autograd\n",
    "<!-- Autograd keeps a record of tensors on all executed operations in a DAG. By tracing this graph in a topological way you can automatically compute the gradients using the chain rule.\n",
    "<br><br>\n",
    "\n",
    "Pytorch is a Python and C++ library that utilizes autograd for large matmuls in neural networks.<br>\n",
    "SheetJS is a javascript library for reading and writing data from spreadsheets\n",
    "\n",
    "This demo goes over the results of autograd implemented in Python and Javascript and we will talk about\n",
    "- General math overview\n",
    "- Viability of Javascript for creating Pytorch/Pandas like libraries\n",
    "- Performance differences -->\n",
    "- Computational Graph\n",
    "- Mathematics\n",
    "- Data Processing\n",
    "\n",
    "### Why was this project chosen?\n",
    "- Heavy data processing with lots of mathematical concepts\n",
    "- Complex Software Engineering\n",
    "- Intersection of Javascript, Python, and Math\n",
    "\n",
    "### Math Involved\n",
    "A majority of the math revolves around\n",
    "1. Partial Differentiation\n",
    "2. Gradients\n",
    "3. The Chain Rule"
   ]
  },
  {
   "cell_type": "markdown",
   "metadata": {},
   "source": [
    "### Lets look at en example\n",
    "\n",
    "<img src=\"other_snips/dag_final_final.png\" alt=\"Venn Diagram\" title=\"Venn Diagram\" width=\"750\" height=\"450\">\n",
    "\n",
    "\n",
    "<img src=\"other_snips/dag_final_partial.png\" alt=\"Venn Diagram\" title=\"Venn Diagram\" width=\"750\" height=\"450\">\n",
    "\n",
    "\n",
    "### Code Example"
   ]
  },
  {
   "cell_type": "code",
   "execution_count": 1,
   "metadata": {},
   "outputs": [
    {
     "name": "stdout",
     "output_type": "stream",
     "text": [
      "F grad: 1, C grad: 2, D grad: 8, A grad: 2.0, B grad: 2.0\n"
     ]
    }
   ],
   "source": [
    "from AutoPy import Tensor\n",
    "A,B,C,D=Tensor(3),Tensor(5),Tensor(8),Tensor(2)\n",
    "\n",
    "def add(x,y):\n",
    "    return x + y\n",
    "\n",
    "def multiply(x,y):\n",
    "    return x * y\n",
    "\n",
    "C = add(A,B)\n",
    "F = multiply(C, D)\n",
    "F.backward()\n",
    "\n",
    "print(f\"F grad: {F.grad}, C grad: {C.grad}, D grad: {D.grad}, A grad: {A.grad}, B grad: {B.grad}\")"
   ]
  },
  {
   "cell_type": "markdown",
   "metadata": {},
   "source": [
    "### Let see how this translates to code in both Javascript and Python\n",
    "\n",
    "\n",
    "### Constructor\n",
    "<div style=\"display: flex; align-items: center;\">\n",
    "    <img src=\"./javascript_code_snips/constructor.png\" alt=\"JavaScript Constructor\" title=\"JavaScript Constructor\" width=\"600\" height=\"250\">\n",
    "    <img src=\"./python_code_snips/constructor.png\" alt=\"Python Constructor\" title=\"Python Constructor\" width=\"600\" height=\"250\">\n",
    "</div>\n"
   ]
  },
  {
   "cell_type": "markdown",
   "metadata": {},
   "source": [
    "### Partial Differentiation and Chain Rule\n",
    "<div style=\"display: flex; align-items: center;\">\n",
    "    <img src=\"./javascript_code_snips/mult_func.png\" alt=\"JavaScript Constructor\" title=\"JavaScript Constructor\" width=\"600\" height=\"450\">\n",
    "    <img src=\"./python_code_snips/mult_func.png\" alt=\"Python Constructor\" title=\"Python Constructor\" width=\"600\" height=\"450\">\n",
    "</div>"
   ]
  },
  {
   "cell_type": "markdown",
   "metadata": {},
   "source": [
    "### Topological Sort\n",
    "<div style=\"display: flex; align-items: center;\">\n",
    "    <img src=\"./javascript_code_snips/topo.png\" alt=\"JavaScript Constructor\" title=\"JavaScript Constructor\" width=\"500\" height=\"600\">\n",
    "    <img src=\"./python_code_snips/topo.png\" alt=\"Python Constructor\" title=\"Python Constructor\" width=\"500\" height=\"500\">\n",
    "</div>"
   ]
  },
  {
   "cell_type": "markdown",
   "metadata": {},
   "source": [
    "### Matrix and Neural Network Library\n",
    "<div style=\"display: flex; align-items: center;\">\n",
    "    <img src=\"./javascript_code_snips/nn_example.png\" alt=\"JavaScript Constructor\" title=\"JavaScript Constructor\" width=\"500\" height=\"600\">\n",
    "    <img src=\"./python_code_snips/nn_example.png\" alt=\"Python Constructor\" title=\"Python Constructor\" width=\"600\" height=\"500\">\n",
    "</div>"
   ]
  },
  {
   "cell_type": "markdown",
   "metadata": {},
   "source": [
    "### Performance\n",
    "<img src=\"./performance_metrics/first_4_bar.png\" alt=\"Python Constructor\" title=\"Python Constructor\" width=\"700\" height=\"500\">\n",
    "<br>\n",
    "\n",
    "<img src=\"./performance_metrics/last_4_bar.png\" alt=\"Python Constructor\" title=\"Python Constructor\" width=\"700\" height=\"500\">\n",
    "\n",
    "<br>\n",
    "\n",
    "\n",
    "<img src=\"./performance_metrics/jscriptvspython.png\" alt=\"Python Constructor\" title=\"Python Constructor\" width=\"900\" height=\"600\">\n",
    "\n",
    "### Javascript was nearly 25x faster than Python\n",
    "\n",
    "### Industry implementation of the addition and multiply op(tensorflowJS)\n",
    "<div style=\"display: flex; align-items: center;\">\n",
    "    <img src=\"./javascript_code_snips/tensorflowjs_add.png\" alt=\"JavaScript Constructor\" title=\"JavaScript Constructor\" >\n",
    "    <img src=\"./javascript_code_snips/tensorflowjs_mult.png\" alt=\"Python Constructor\" title=\"Python Constructor\", height=325>\n",
    "</div>\n",
    "\n",
    "[Multiply_grad.ts on GitHub](https://github.com/tensorflow/tfjs/blob/master/tfjs-core/src/gradients/Multiply_grad.ts)"
   ]
  },
  {
   "cell_type": "markdown",
   "metadata": {},
   "source": [
    "### Conclusion\n",
    "\n",
    "Javascript outperformed Python but a lot but did not come close to Pytorch. my next steps in evaluating Javascript as a contendor would be research and implementing these ideas\n",
    "- WASM\n",
    "    - wasm binaries can be big files\n",
    "- Web Workers / Worker Threads(Node)\n",
    "    - Heavy weight and not intended to be used in large numbers\n",
    "    - No interaction with DOM\n",
    "- V8/GC Code Optimization\n",
    "    - Optimizations dependend on compiler version and browser\n",
    "    - In place array updates"
   ]
  },
  {
   "cell_type": "markdown",
   "metadata": {},
   "source": []
  }
 ],
 "metadata": {
  "kernelspec": {
   "display_name": "autograd",
   "language": "python",
   "name": "python3"
  },
  "language_info": {
   "codemirror_mode": {
    "name": "ipython",
    "version": 3
   },
   "file_extension": ".py",
   "mimetype": "text/x-python",
   "name": "python",
   "nbconvert_exporter": "python",
   "pygments_lexer": "ipython3",
   "version": "3.12.2"
  }
 },
 "nbformat": 4,
 "nbformat_minor": 2
}

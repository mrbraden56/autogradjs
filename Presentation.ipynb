{
 "cells": [
  {
   "cell_type": "markdown",
   "metadata": {},
   "source": [
    "<img src=\"./venn_diagram.png\" alt=\"Venn Diagram\" title=\"Venn Diagram\" width=\"600\" height=\"600\">"
   ]
  },
  {
   "cell_type": "markdown",
   "metadata": {},
   "source": [
    "# Autograd\n",
    "Autograd keeps a record of tensors on all executed operations in a DAG. By tracing this graph in a topological way you can automatically compute the gradients using the chain rule.\n",
    "<br><br>\n",
    "\n",
    "Pytorch is a Python and C++ library that utilizes autograd for large matmuls in neural networks.<br>\n",
    "SheetJS is a javascript library for reading and writing data from spreadsheets\n",
    "\n",
    "This demo goes over the results of autograd implemented in Python and Javascript and we will talk about\n",
    "- General math overview\n",
    "- Viability of Javascript for creating Pytorch/Pandas like libraries\n",
    "- Performance differences\n",
    "\n",
    "### Why was this project chosen?\n",
    "This project was chosen because it is the intersection of\n",
    "- Javascript\n",
    "- Python\n",
    "- Mathematics\n",
    "\n",
    "Autograd libraries are complex projects that involve heavy use software engineering and mathematics. This project can help us explore how well suited each programming lanuguage is for data intensive operations.\n",
    "<br><br><br><br><br><br>"
   ]
  },
  {
   "cell_type": "markdown",
   "metadata": {},
   "source": [
    "### Math Involved\n",
    "A majority of the math revolves around\n",
    "1. Partial Differentiation\n",
    "2. Gradients\n",
    "3. The Chain Rule"
   ]
  },
  {
   "cell_type": "markdown",
   "metadata": {},
   "source": [
    "<img src=\"./tangent_line.gif\" alt=\"Venn Diagram\" title=\"Venn Diagram\" width=\"350\" height=\"250\">\n",
    "\n",
    "This is a function f(x) that shows the differece between the secant line and tangent line. The secant line represents the average rate of change. The tangent line represents the instantaneous rate of change at a particular moment. This is where the idea of a derivatice comes into play. The derivative is the slope of a tangent line at a particular point and is defined as df/dx.\n",
    "\n",
    "<img src=\"./partial_dif.png\" alt=\"Venn Diagram\" title=\"Venn Diagram\" width=\"350\" height=\"250\">\n",
    "\n",
    "The partial derivative is similar to the derivative. Say we have a function f(x,y). We now want to find the rate of change at a particular moment. Now since the function relies on x and y we must find the derivative for each of these independently.  Now we will need to find df/dx and df/dy, treating the varabile we arent differentiating as a constant\n",
    "\n",
    "### What is the gradient then?\n",
    "A gradient is nothing different then what we have talked about. A gradient is the vector of partial derivatives of a function. So the gradient of f(x,y) would be <df/dx, df/dy>. This vector can then show us the slope of a function in higher dimensions. Taking the positive gradient will point us in the direction of steepest ascent and the negative gradient in the direction of steepset descent. This is where the terminology \"Gradient Descent\" comes into play\n",
    "\n",
    "### Now whats up with the chain rule?\n",
    "<img src=\"./chain_rule.png\" alt=\"Venn Diagram\" title=\"Venn Diagram\" width=\"750\" height=\"250\">\n",
    "\n",
    "The chain rule will be used in pair with gradients. It allows us to differentiate variables that depend on other variables. This becomes one of the core reasons why the autograd engine works.\n",
    "<br><br><br><br><br><br>\n"
   ]
  },
  {
   "cell_type": "markdown",
   "metadata": {},
   "source": [
    "### Lets look at en example\n",
    "Here we have a small DAG. The equation represented by the DAG is in the upper left hand corner.\n",
    "\n",
    "<img src=\"./dag_final_final.png\" alt=\"Venn Diagram\" title=\"Venn Diagram\" width=\"750\" height=\"450\">\n",
    "\n",
    "We can then use the chain rule to calculate the partial derivative for each of these nodes with respect to F.\n",
    "\n",
    "<img src=\"./dag_final_partial.png\" alt=\"Venn Diagram\" title=\"Venn Diagram\" width=\"750\" height=\"450\">\n",
    "\n",
    "\n",
    "Here is what that looks like in Python"
   ]
  },
  {
   "cell_type": "code",
   "execution_count": 1,
   "metadata": {},
   "outputs": [
    {
     "name": "stdout",
     "output_type": "stream",
     "text": [
      "F grad: 1, C grad: 2, D grad: 8, A grad: 2.0, B grad: 2.0\n"
     ]
    }
   ],
   "source": [
    "from AutoPy import Tensor\n",
    "A,B,C,D=Tensor(3),Tensor(5),Tensor(8),Tensor(2)\n",
    "\n",
    "def add(x,y):\n",
    "    return x + y\n",
    "\n",
    "def multiply(x,y):\n",
    "    return x * y\n",
    "\n",
    "C = add(A,B)\n",
    "F = multiply(C, D)\n",
    "F.backward()\n",
    "\n",
    "print(f\"F grad: {F.grad}, C grad: {C.grad}, D grad: {D.grad}, A grad: {A.grad}, B grad: {B.grad}\")"
   ]
  },
  {
   "cell_type": "markdown",
   "metadata": {},
   "source": [
    "### Let see how this translates to code in both Javascript\n",
    "\n",
    "<div style=\"display: flex; align-items: center;\">\n",
    "    <img src=\"./javascript_code_snips/constructor.png\" alt=\"JavaScript Constructor\" title=\"JavaScript Constructor\" width=\"600\" height=\"250\">\n",
    "    <img src=\"./python_code_snips/constructor.png\" alt=\"Python Constructor\" title=\"Python Constructor\" width=\"600\" height=\"250\">\n",
    "</div>\n"
   ]
  },
  {
   "cell_type": "markdown",
   "metadata": {},
   "source": [
    "\n",
    "<div style=\"display: flex; align-items: center;\">\n",
    "    <img src=\"./javascript_code_snips/mult_func.png\" alt=\"JavaScript Constructor\" title=\"JavaScript Constructor\" width=\"600\" height=\"450\">\n",
    "    <img src=\"./python_code_snips/mult_func.png\" alt=\"Python Constructor\" title=\"Python Constructor\" width=\"600\" height=\"450\">\n",
    "</div>\n",
    "\n",
    "This represents the heart of the library. The autograd library is made up of many of the basic operations that make up most most such as addition, multiplication, etc. Lets take a look at \n",
    "- x1.grad += x2.grad * y.grad;\n",
    "\n",
    "x1.grad += x2.grad represents the partial derivative of the loss with respect to x1. Since this is a multiplication operation, that means the partial derivative would be x2.\n",
    "\n",
    "<br>\n",
    "We the multiply it by y.grad which acts as the chain rule. y.grad will be accumulating all of the intermediary partial derivaitves we need. Simply multiplying by y.grad will be how we use the chain rule.\n",
    "\n",
    "<br>\n",
    "Finally, we accumulate the gradient using += since a variable can be used multiple times in a dag."
   ]
  },
  {
   "cell_type": "markdown",
   "metadata": {},
   "source": [
    "\n",
    "<div style=\"display: flex; align-items: center;\">\n",
    "    <img src=\"./javascript_code_snips/topo.png\" alt=\"JavaScript Constructor\" title=\"JavaScript Constructor\" width=\"500\" height=\"600\">\n",
    "    <img src=\"./python_code_snips/topo.png\" alt=\"Python Constructor\" title=\"Python Constructor\" width=\"500\" height=\"500\">\n",
    "</div>\n",
    "\n",
    "This is the topological sort algorithm we use on the computational graph that runs in O(V+E)(verticies and edges) time. This sort the graph in a way that makes sure you have all the dependencies you need. A real world example would be sorting a DAG of classes and the prerequisites to make sure you take the classes in the right order.\n",
    "\n",
    "<br>\n",
    "\n",
    "You see at the end of the function we then reverse the sort. This is because originally it sorts the graph from left to right topologically. But since we want to start at the loss, the end, we must start at the end."
   ]
  },
  {
   "cell_type": "markdown",
   "metadata": {},
   "source": [
    "### Performance\n",
    "I implemented 2 autograd libraries. One in Python and the other in Javascript. I also set up tests with Pytorch. I then tested each library on varying number of network paramters, calculating total floating points operations(FLOPS), to see how the autograd engine performed. Here were the results.\n",
    "\n",
    "<img src=\"./performance_metrics/first_4_bar.png\" alt=\"Python Constructor\" title=\"Python Constructor\" width=\"700\" height=\"500\">\n",
    "<br>\n",
    "\n",
    "<img src=\"./performance_metrics/last_4_bar.png\" alt=\"Python Constructor\" title=\"Python Constructor\" width=\"700\" height=\"500\">\n",
    "\n",
    "<br>\n",
    "\n",
    "Pytorch was the fastest. For every trial it ran at around .3 seconds. However, the most shocking result was how performant Javascript was over Python seen here.\n",
    "\n",
    "<img src=\"./performance_metrics/jscriptvspython.png\" alt=\"Python Constructor\" title=\"Python Constructor\" width=\"900\" height=\"600\">\n",
    "\n",
    "Where the most amount of time Javascript took was around 82 seconds and for Python, I had to extrapolate the seconds towards the end since it was taking to much time to run on my laptop."
   ]
  },
  {
   "cell_type": "markdown",
   "metadata": {},
   "source": [
    "### Conclusion\n",
    "\n",
    "Javascript outperformed Python but a lot but did not come close to Pytorch. my next steps in evaluating Javascript as a contendor would be research and implementing these ideas\n",
    "- WASM\n",
    "    - wasm binaries can be big files\n",
    "- Web Workers / Worker Threads(Node)\n",
    "    - Heavy weight and not intended to be used in large numbers\n",
    "    - No interaction with DOM\n",
    "- V8/GC Code Optimization\n",
    "    - Optimizations dependend on compiler version and browser"
   ]
  },
  {
   "cell_type": "markdown",
   "metadata": {},
   "source": []
  }
 ],
 "metadata": {
  "kernelspec": {
   "display_name": "autograd",
   "language": "python",
   "name": "python3"
  },
  "language_info": {
   "codemirror_mode": {
    "name": "ipython",
    "version": 3
   },
   "file_extension": ".py",
   "mimetype": "text/x-python",
   "name": "python",
   "nbconvert_exporter": "python",
   "pygments_lexer": "ipython3",
   "version": "3.12.2"
  }
 },
 "nbformat": 4,
 "nbformat_minor": 2
}
